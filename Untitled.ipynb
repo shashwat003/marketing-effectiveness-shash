{
 "cells": [
  {
   "cell_type": "code",
   "execution_count": 1,
   "metadata": {},
   "outputs": [],
   "source": [
    "import streamlit as st\n",
    "import pandas as pd\n",
    "import numpy as np\n",
    "import plotly.express as px\n",
    "from sklearn.preprocessing import StandardScaler\n",
    "from sklearn.cluster import KMeans\n",
    "from scipy import stats\n",
    "from sklearn.linear_model import LogisticRegression\n",
    "from sklearn.model_selection import train_test_split\n",
    "from sklearn.metrics import classification_report\n",
    "import random\n"
   ]
  },
  {
   "cell_type": "code",
   "execution_count": 3,
   "metadata": {},
   "outputs": [],
   "source": [
    "def load_data():\n",
    "    df = pd.read_csv(\"marketing_data.csv\")\n",
    "    df[\"Income\"] = df[\"Income\"].replace(\"\\$\", \"\", regex=True).replace(\",\", \"\", regex=True).astype(float)\n",
    "    df[\"Dt_Customer\"] = pd.to_datetime(df[\"Dt_Customer\"], format=\"%m/%d/%y\")\n",
    "    df[\"Age\"] = 2024 - df[\"Year_Birth\"]\n",
    "    df[\"TotalSpend\"] = df[[\"MntWines\", \"MntFruits\", \"MntMeatProducts\", \"MntFishProducts\", \"MntSweetProducts\", \"MntGoldProds\"]].sum(axis=1)\n",
    "    return df"
   ]
  },
  {
   "cell_type": "code",
   "execution_count": 4,
   "metadata": {},
   "outputs": [],
   "source": [
    "# Perform KMeans clustering\n",
    "def segment_customers(df, n_clusters=4):\n",
    "    features = df[[\"Income\", \"Age\", \"Recency\", \"TotalSpend\"]].dropna()\n",
    "    scaler = StandardScaler()\n",
    "    scaled = scaler.fit_transform(features)\n",
    "    kmeans = KMeans(n_clusters=n_clusters, random_state=42, n_init=10)\n",
    "    labels = kmeans.fit_predict(scaled)\n",
    "    features[\"Segment\"] = labels\n",
    "    return df.join(features[\"Segment\"])"
   ]
  },
  {
   "cell_type": "code",
   "execution_count": null,
   "metadata": {},
   "outputs": [],
   "source": []
  }
 ],
 "metadata": {
  "kernelspec": {
   "display_name": "Python 3",
   "language": "python",
   "name": "python3"
  },
  "language_info": {
   "codemirror_mode": {
    "name": "ipython",
    "version": 3
   },
   "file_extension": ".py",
   "mimetype": "text/x-python",
   "name": "python",
   "nbconvert_exporter": "python",
   "pygments_lexer": "ipython3",
   "version": "3.8.3"
  }
 },
 "nbformat": 4,
 "nbformat_minor": 4
}
